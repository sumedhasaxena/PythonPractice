{
 "cells": [
  {
   "cell_type": "code",
   "execution_count": 15,
   "id": "ebf01f1e-0168-42f3-a591-c233bad8af60",
   "metadata": {},
   "outputs": [
    {
     "name": "stdout",
     "output_type": "stream",
     "text": [
      "          A      B   C   D          E\n",
      "0  0.548814   test  59  82 2021-01-01\n",
      "1  0.715189  train  66  38 2021-02-01\n",
      "2  0.602763   test  40  26 2021-03-01\n",
      "3  0.544883   test  88  78 2021-04-01\n",
      "4  0.423655   test  47  73 2021-05-01\n",
      "5  0.645894   test  89  10 2021-06-01\n"
     ]
    }
   ],
   "source": [
    "# 1.Create a DataFrame named df with 6 nrows with the following columns:\n",
    "import pandas as pd\n",
    "import numpy as np\n",
    "\n",
    "np.random.seed(0)\n",
    "\n",
    "#random floating point value\n",
    "col1 = np.random.rand(6)\n",
    "\n",
    "col2 = np.random.choice([\"test\",\"train\"], size = 6)\n",
    "\n",
    "col3 = np.random.randint(1, 100, size=6)\n",
    "\n",
    "col4 = pd.Series(np.random.randint(1, 100, size=6))\n",
    "\n",
    "col5 = pd.date_range(start=\"2021-01-01\", periods=6, freq='MS')\n",
    "\n",
    "# Create the DataFrame\n",
    "df = pd.DataFrame({'A':col1,'B':col2,'C':col3,'D':col4,'E':col5})\n",
    "\n",
    "# Display the DataFrame\n",
    "print(df)"
   ]
  },
  {
   "cell_type": "code",
   "execution_count": 16,
   "id": "344d4733-9b3f-4345-ba69-8f4ded0242e9",
   "metadata": {},
   "outputs": [
    {
     "data": {
      "text/plain": [
       "matrix([[141.5488135 ],\n",
       "        [104.71518937],\n",
       "        [ 66.60276338],\n",
       "        [166.54488318],\n",
       "        [120.4236548 ],\n",
       "        [ 99.64589411]])"
      ]
     },
     "execution_count": 16,
     "metadata": {},
     "output_type": "execute_result"
    }
   ],
   "source": [
    "# 2.Convert numeric columns into a numpy.matrix and compute the row sums.\n",
    "df_numeric_only = df.select_dtypes(include = ['int64','int32','float32','float64'])\n",
    "matrix_numeric_only = np.matrix(df_numeric_only)\n",
    "matrix_numeric_only.sum(axis = 1) # this will not exclude any NaN"
   ]
  },
  {
   "cell_type": "code",
   "execution_count": 17,
   "id": "75c2a53f-cbf9-41b9-938f-c1ae726a5133",
   "metadata": {},
   "outputs": [
    {
     "data": {
      "text/html": [
       "<div>\n",
       "<style scoped>\n",
       "    .dataframe tbody tr th:only-of-type {\n",
       "        vertical-align: middle;\n",
       "    }\n",
       "\n",
       "    .dataframe tbody tr th {\n",
       "        vertical-align: top;\n",
       "    }\n",
       "\n",
       "    .dataframe thead th {\n",
       "        text-align: right;\n",
       "    }\n",
       "</style>\n",
       "<table border=\"1\" class=\"dataframe\">\n",
       "  <thead>\n",
       "    <tr style=\"text-align: right;\">\n",
       "      <th></th>\n",
       "      <th>A</th>\n",
       "      <th>B</th>\n",
       "      <th>C</th>\n",
       "      <th>D</th>\n",
       "      <th>E</th>\n",
       "    </tr>\n",
       "  </thead>\n",
       "  <tbody>\n",
       "    <tr>\n",
       "      <th>2</th>\n",
       "      <td>0.602763</td>\n",
       "      <td>test</td>\n",
       "      <td>40</td>\n",
       "      <td>26</td>\n",
       "      <td>2021-03-01</td>\n",
       "    </tr>\n",
       "    <tr>\n",
       "      <th>4</th>\n",
       "      <td>0.423655</td>\n",
       "      <td>test</td>\n",
       "      <td>47</td>\n",
       "      <td>73</td>\n",
       "      <td>2021-05-01</td>\n",
       "    </tr>\n",
       "    <tr>\n",
       "      <th>0</th>\n",
       "      <td>0.548814</td>\n",
       "      <td>test</td>\n",
       "      <td>59</td>\n",
       "      <td>82</td>\n",
       "      <td>2021-01-01</td>\n",
       "    </tr>\n",
       "    <tr>\n",
       "      <th>1</th>\n",
       "      <td>0.715189</td>\n",
       "      <td>train</td>\n",
       "      <td>66</td>\n",
       "      <td>38</td>\n",
       "      <td>2021-02-01</td>\n",
       "    </tr>\n",
       "    <tr>\n",
       "      <th>3</th>\n",
       "      <td>0.544883</td>\n",
       "      <td>test</td>\n",
       "      <td>88</td>\n",
       "      <td>78</td>\n",
       "      <td>2021-04-01</td>\n",
       "    </tr>\n",
       "    <tr>\n",
       "      <th>5</th>\n",
       "      <td>0.645894</td>\n",
       "      <td>test</td>\n",
       "      <td>89</td>\n",
       "      <td>10</td>\n",
       "      <td>2021-06-01</td>\n",
       "    </tr>\n",
       "  </tbody>\n",
       "</table>\n",
       "</div>"
      ],
      "text/plain": [
       "          A      B   C   D          E\n",
       "2  0.602763   test  40  26 2021-03-01\n",
       "4  0.423655   test  47  73 2021-05-01\n",
       "0  0.548814   test  59  82 2021-01-01\n",
       "1  0.715189  train  66  38 2021-02-01\n",
       "3  0.544883   test  88  78 2021-04-01\n",
       "5  0.645894   test  89  10 2021-06-01"
      ]
     },
     "execution_count": 17,
     "metadata": {},
     "output_type": "execute_result"
    }
   ],
   "source": [
    "# 3.Sort df by column C\n",
    "df.sort_values(by = ['C'])"
   ]
  },
  {
   "cell_type": "code",
   "execution_count": 18,
   "id": "f8c41776-c6b5-482f-b2ff-ccd4ea5a933c",
   "metadata": {},
   "outputs": [
    {
     "data": {
      "text/html": [
       "<div>\n",
       "<style scoped>\n",
       "    .dataframe tbody tr th:only-of-type {\n",
       "        vertical-align: middle;\n",
       "    }\n",
       "\n",
       "    .dataframe tbody tr th {\n",
       "        vertical-align: top;\n",
       "    }\n",
       "\n",
       "    .dataframe thead th {\n",
       "        text-align: right;\n",
       "    }\n",
       "</style>\n",
       "<table border=\"1\" class=\"dataframe\">\n",
       "  <thead>\n",
       "    <tr style=\"text-align: right;\">\n",
       "      <th></th>\n",
       "      <th>A</th>\n",
       "      <th>B</th>\n",
       "      <th>C</th>\n",
       "      <th>D</th>\n",
       "      <th>E</th>\n",
       "    </tr>\n",
       "  </thead>\n",
       "  <tbody>\n",
       "    <tr>\n",
       "      <th>1</th>\n",
       "      <td>0.715189</td>\n",
       "      <td>train</td>\n",
       "      <td>66</td>\n",
       "      <td>38</td>\n",
       "      <td>2021-02-01</td>\n",
       "    </tr>\n",
       "  </tbody>\n",
       "</table>\n",
       "</div>"
      ],
      "text/plain": [
       "          A      B   C   D          E\n",
       "1  0.715189  train  66  38 2021-02-01"
      ]
     },
     "execution_count": 18,
     "metadata": {},
     "output_type": "execute_result"
    }
   ],
   "source": [
    "# 4.Filter df for entries for which B has value train and C has values greater than 0.\n",
    "df[(df.B == 'train')&(df.C > 0)]\n",
    "df.query('B == \"train\" and C > 0')"
   ]
  },
  {
   "cell_type": "code",
   "execution_count": 19,
   "id": "ac7cc206-d510-4ac9-8d78-08fa136a9c86",
   "metadata": {},
   "outputs": [
    {
     "data": {
      "text/html": [
       "<div>\n",
       "<style scoped>\n",
       "    .dataframe tbody tr th:only-of-type {\n",
       "        vertical-align: middle;\n",
       "    }\n",
       "\n",
       "    .dataframe tbody tr th {\n",
       "        vertical-align: top;\n",
       "    }\n",
       "\n",
       "    .dataframe thead th {\n",
       "        text-align: right;\n",
       "    }\n",
       "</style>\n",
       "<table border=\"1\" class=\"dataframe\">\n",
       "  <thead>\n",
       "    <tr style=\"text-align: right;\">\n",
       "      <th></th>\n",
       "      <th>A</th>\n",
       "      <th>B</th>\n",
       "      <th>C</th>\n",
       "      <th>D</th>\n",
       "      <th>E</th>\n",
       "    </tr>\n",
       "  </thead>\n",
       "  <tbody>\n",
       "    <tr>\n",
       "      <th>0</th>\n",
       "      <td>0.548814</td>\n",
       "      <td>test</td>\n",
       "      <td>59</td>\n",
       "      <td>82</td>\n",
       "      <td>2021-01-01</td>\n",
       "    </tr>\n",
       "    <tr>\n",
       "      <th>1</th>\n",
       "      <td>0.715189</td>\n",
       "      <td>train</td>\n",
       "      <td>66</td>\n",
       "      <td>10</td>\n",
       "      <td>2021-02-01</td>\n",
       "    </tr>\n",
       "    <tr>\n",
       "      <th>2</th>\n",
       "      <td>0.602763</td>\n",
       "      <td>test</td>\n",
       "      <td>40</td>\n",
       "      <td>26</td>\n",
       "      <td>2021-03-01</td>\n",
       "    </tr>\n",
       "    <tr>\n",
       "      <th>3</th>\n",
       "      <td>0.544883</td>\n",
       "      <td>test</td>\n",
       "      <td>88</td>\n",
       "      <td>78</td>\n",
       "      <td>2021-04-01</td>\n",
       "    </tr>\n",
       "    <tr>\n",
       "      <th>4</th>\n",
       "      <td>0.423655</td>\n",
       "      <td>test</td>\n",
       "      <td>47</td>\n",
       "      <td>73</td>\n",
       "      <td>2021-05-01</td>\n",
       "    </tr>\n",
       "    <tr>\n",
       "      <th>5</th>\n",
       "      <td>0.645894</td>\n",
       "      <td>test</td>\n",
       "      <td>89</td>\n",
       "      <td>10</td>\n",
       "      <td>2021-06-01</td>\n",
       "    </tr>\n",
       "  </tbody>\n",
       "</table>\n",
       "</div>"
      ],
      "text/plain": [
       "          A      B   C   D          E\n",
       "0  0.548814   test  59  82 2021-01-01\n",
       "1  0.715189  train  66  10 2021-02-01\n",
       "2  0.602763   test  40  26 2021-03-01\n",
       "3  0.544883   test  88  78 2021-04-01\n",
       "4  0.423655   test  47  73 2021-05-01\n",
       "5  0.645894   test  89  10 2021-06-01"
      ]
     },
     "execution_count": 19,
     "metadata": {},
     "output_type": "execute_result"
    }
   ],
   "source": [
    "\n",
    "# 5.Change the value in the 4th column and 2nd row to 10\n",
    "df.iat[1,3] = 10\n",
    "df"
   ]
  },
  {
   "cell_type": "code",
   "execution_count": 20,
   "id": "8a74c370-8e8e-4142-a4d2-ef6ed98b4196",
   "metadata": {},
   "outputs": [],
   "source": [
    "# 6.Create a column F where half the values are NaN\n",
    "colF = np.random.rand(6)\n",
    "for index,val in enumerate(colF):\n",
    "    if index > 2:\n",
    "        colF[index] = np.nan\n",
    "colF\n",
    "\n",
    "df.insert(5, 'F', colF)"
   ]
  },
  {
   "cell_type": "code",
   "execution_count": 21,
   "id": "5101d98d-1f0f-40d8-bb89-1b1a4541626c",
   "metadata": {},
   "outputs": [
    {
     "data": {
      "text/html": [
       "<div>\n",
       "<style scoped>\n",
       "    .dataframe tbody tr th:only-of-type {\n",
       "        vertical-align: middle;\n",
       "    }\n",
       "\n",
       "    .dataframe tbody tr th {\n",
       "        vertical-align: top;\n",
       "    }\n",
       "\n",
       "    .dataframe thead th {\n",
       "        text-align: right;\n",
       "    }\n",
       "</style>\n",
       "<table border=\"1\" class=\"dataframe\">\n",
       "  <thead>\n",
       "    <tr style=\"text-align: right;\">\n",
       "      <th></th>\n",
       "      <th>A</th>\n",
       "      <th>B</th>\n",
       "      <th>C</th>\n",
       "      <th>D</th>\n",
       "      <th>E</th>\n",
       "      <th>F</th>\n",
       "    </tr>\n",
       "  </thead>\n",
       "  <tbody>\n",
       "    <tr>\n",
       "      <th>0</th>\n",
       "      <td>0.548814</td>\n",
       "      <td>test</td>\n",
       "      <td>59</td>\n",
       "      <td>82</td>\n",
       "      <td>2021-01-01</td>\n",
       "      <td>0.648172</td>\n",
       "    </tr>\n",
       "    <tr>\n",
       "      <th>1</th>\n",
       "      <td>0.715189</td>\n",
       "      <td>train</td>\n",
       "      <td>66</td>\n",
       "      <td>10</td>\n",
       "      <td>2021-02-01</td>\n",
       "      <td>0.368242</td>\n",
       "    </tr>\n",
       "    <tr>\n",
       "      <th>2</th>\n",
       "      <td>0.602763</td>\n",
       "      <td>test</td>\n",
       "      <td>40</td>\n",
       "      <td>26</td>\n",
       "      <td>2021-03-01</td>\n",
       "      <td>0.957155</td>\n",
       "    </tr>\n",
       "    <tr>\n",
       "      <th>3</th>\n",
       "      <td>0.544883</td>\n",
       "      <td>test</td>\n",
       "      <td>88</td>\n",
       "      <td>78</td>\n",
       "      <td>2021-04-01</td>\n",
       "      <td>NaN</td>\n",
       "    </tr>\n",
       "    <tr>\n",
       "      <th>4</th>\n",
       "      <td>0.423655</td>\n",
       "      <td>test</td>\n",
       "      <td>47</td>\n",
       "      <td>73</td>\n",
       "      <td>2021-05-01</td>\n",
       "      <td>NaN</td>\n",
       "    </tr>\n",
       "    <tr>\n",
       "      <th>5</th>\n",
       "      <td>0.645894</td>\n",
       "      <td>test</td>\n",
       "      <td>89</td>\n",
       "      <td>10</td>\n",
       "      <td>2021-06-01</td>\n",
       "      <td>NaN</td>\n",
       "    </tr>\n",
       "  </tbody>\n",
       "</table>\n",
       "</div>"
      ],
      "text/plain": [
       "          A      B   C   D          E         F\n",
       "0  0.548814   test  59  82 2021-01-01  0.648172\n",
       "1  0.715189  train  66  10 2021-02-01  0.368242\n",
       "2  0.602763   test  40  26 2021-03-01  0.957155\n",
       "3  0.544883   test  88  78 2021-04-01       NaN\n",
       "4  0.423655   test  47  73 2021-05-01       NaN\n",
       "5  0.645894   test  89  10 2021-06-01       NaN"
      ]
     },
     "execution_count": 21,
     "metadata": {},
     "output_type": "execute_result"
    }
   ],
   "source": [
    "df"
   ]
  },
  {
   "cell_type": "code",
   "execution_count": 22,
   "id": "51c9944a-7c91-469c-8f8a-e88cb68cc13c",
   "metadata": {},
   "outputs": [
    {
     "data": {
      "text/html": [
       "<div>\n",
       "<style scoped>\n",
       "    .dataframe tbody tr th:only-of-type {\n",
       "        vertical-align: middle;\n",
       "    }\n",
       "\n",
       "    .dataframe tbody tr th {\n",
       "        vertical-align: top;\n",
       "    }\n",
       "\n",
       "    .dataframe thead th {\n",
       "        text-align: right;\n",
       "    }\n",
       "</style>\n",
       "<table border=\"1\" class=\"dataframe\">\n",
       "  <thead>\n",
       "    <tr style=\"text-align: right;\">\n",
       "      <th></th>\n",
       "      <th>A</th>\n",
       "      <th>B</th>\n",
       "      <th>C</th>\n",
       "      <th>D</th>\n",
       "      <th>E</th>\n",
       "      <th>F</th>\n",
       "    </tr>\n",
       "  </thead>\n",
       "  <tbody>\n",
       "    <tr>\n",
       "      <th>0</th>\n",
       "      <td>0.548814</td>\n",
       "      <td>test</td>\n",
       "      <td>59</td>\n",
       "      <td>82</td>\n",
       "      <td>2021-01-01</td>\n",
       "      <td>0.648172</td>\n",
       "    </tr>\n",
       "    <tr>\n",
       "      <th>1</th>\n",
       "      <td>0.715189</td>\n",
       "      <td>train</td>\n",
       "      <td>66</td>\n",
       "      <td>10</td>\n",
       "      <td>2021-02-01</td>\n",
       "      <td>0.368242</td>\n",
       "    </tr>\n",
       "    <tr>\n",
       "      <th>2</th>\n",
       "      <td>0.602763</td>\n",
       "      <td>test</td>\n",
       "      <td>40</td>\n",
       "      <td>26</td>\n",
       "      <td>2021-03-01</td>\n",
       "      <td>0.957155</td>\n",
       "    </tr>\n",
       "  </tbody>\n",
       "</table>\n",
       "</div>"
      ],
      "text/plain": [
       "          A      B   C   D          E         F\n",
       "0  0.548814   test  59  82 2021-01-01  0.648172\n",
       "1  0.715189  train  66  10 2021-02-01  0.368242\n",
       "2  0.602763   test  40  26 2021-03-01  0.957155"
      ]
     },
     "execution_count": 22,
     "metadata": {},
     "output_type": "execute_result"
    }
   ],
   "source": [
    "# 7. Deal with missing values in two different ways:\n",
    "# 7a. remove entries with missing data\n",
    "df.dropna()"
   ]
  },
  {
   "cell_type": "code",
   "execution_count": 23,
   "id": "bbe7de2a-3cfd-4df2-a3fe-e1108373f94c",
   "metadata": {},
   "outputs": [
    {
     "data": {
      "text/html": [
       "<div>\n",
       "<style scoped>\n",
       "    .dataframe tbody tr th:only-of-type {\n",
       "        vertical-align: middle;\n",
       "    }\n",
       "\n",
       "    .dataframe tbody tr th {\n",
       "        vertical-align: top;\n",
       "    }\n",
       "\n",
       "    .dataframe thead th {\n",
       "        text-align: right;\n",
       "    }\n",
       "</style>\n",
       "<table border=\"1\" class=\"dataframe\">\n",
       "  <thead>\n",
       "    <tr style=\"text-align: right;\">\n",
       "      <th></th>\n",
       "      <th>A</th>\n",
       "      <th>B</th>\n",
       "      <th>C</th>\n",
       "      <th>D</th>\n",
       "      <th>E</th>\n",
       "      <th>F</th>\n",
       "    </tr>\n",
       "  </thead>\n",
       "  <tbody>\n",
       "    <tr>\n",
       "      <th>0</th>\n",
       "      <td>0.548814</td>\n",
       "      <td>test</td>\n",
       "      <td>59</td>\n",
       "      <td>82</td>\n",
       "      <td>2021-01-01</td>\n",
       "      <td>0.648172</td>\n",
       "    </tr>\n",
       "    <tr>\n",
       "      <th>1</th>\n",
       "      <td>0.715189</td>\n",
       "      <td>train</td>\n",
       "      <td>66</td>\n",
       "      <td>10</td>\n",
       "      <td>2021-02-01</td>\n",
       "      <td>0.368242</td>\n",
       "    </tr>\n",
       "    <tr>\n",
       "      <th>2</th>\n",
       "      <td>0.602763</td>\n",
       "      <td>test</td>\n",
       "      <td>40</td>\n",
       "      <td>26</td>\n",
       "      <td>2021-03-01</td>\n",
       "      <td>0.957155</td>\n",
       "    </tr>\n",
       "    <tr>\n",
       "      <th>3</th>\n",
       "      <td>0.544883</td>\n",
       "      <td>test</td>\n",
       "      <td>88</td>\n",
       "      <td>78</td>\n",
       "      <td>2021-04-01</td>\n",
       "      <td>0.000000</td>\n",
       "    </tr>\n",
       "    <tr>\n",
       "      <th>4</th>\n",
       "      <td>0.423655</td>\n",
       "      <td>test</td>\n",
       "      <td>47</td>\n",
       "      <td>73</td>\n",
       "      <td>2021-05-01</td>\n",
       "      <td>0.000000</td>\n",
       "    </tr>\n",
       "    <tr>\n",
       "      <th>5</th>\n",
       "      <td>0.645894</td>\n",
       "      <td>test</td>\n",
       "      <td>89</td>\n",
       "      <td>10</td>\n",
       "      <td>2021-06-01</td>\n",
       "      <td>0.000000</td>\n",
       "    </tr>\n",
       "  </tbody>\n",
       "</table>\n",
       "</div>"
      ],
      "text/plain": [
       "          A      B   C   D          E         F\n",
       "0  0.548814   test  59  82 2021-01-01  0.648172\n",
       "1  0.715189  train  66  10 2021-02-01  0.368242\n",
       "2  0.602763   test  40  26 2021-03-01  0.957155\n",
       "3  0.544883   test  88  78 2021-04-01  0.000000\n",
       "4  0.423655   test  47  73 2021-05-01  0.000000\n",
       "5  0.645894   test  89  10 2021-06-01  0.000000"
      ]
     },
     "execution_count": 23,
     "metadata": {},
     "output_type": "execute_result"
    }
   ],
   "source": [
    "# 7. Deal with missing values in two different ways:\n",
    "# 7b. fill missing values with 0\n",
    "df.replace(to_replace = np.nan, value = 0)"
   ]
  },
  {
   "cell_type": "code",
   "execution_count": 25,
   "id": "040c0e30-3b44-4369-94ba-7c70e2fe1a4d",
   "metadata": {},
   "outputs": [],
   "source": [
    "# 8. Convert column A into a cumulative sum.\n",
    "df['A'] = df['A'].cumsum()\n"
   ]
  },
  {
   "cell_type": "code",
   "execution_count": 26,
   "id": "cdfe6e54-3466-457f-9754-2cc772855d2e",
   "metadata": {},
   "outputs": [
    {
     "data": {
      "text/plain": [
       "0   -58.451186\n",
       "1   -64.735997\n",
       "2   -38.133234\n",
       "3   -85.588351\n",
       "4   -44.164696\n",
       "5   -85.518802\n",
       "dtype: float64"
      ]
     },
     "execution_count": 26,
     "metadata": {},
     "output_type": "execute_result"
    }
   ],
   "source": [
    "# 9. Subtract column A from column B - 2 diff data types\n",
    "df['A'].sub(df['C'])"
   ]
  },
  {
   "cell_type": "code",
   "execution_count": 27,
   "id": "61caf744-0086-4009-8cdb-0a24a9aa008f",
   "metadata": {},
   "outputs": [
    {
     "data": {
      "text/plain": [
       "Text(0, 0.5, 'Value')"
      ]
     },
     "execution_count": 27,
     "metadata": {},
     "output_type": "execute_result"
    },
    {
     "data": {
      "image/png": "[encoded data removed]",
      "text/plain": [
       "<Figure size 640x480 with 1 Axes>"
      ]
     },
     "metadata": {},
     "output_type": "display_data"
    }
   ],
   "source": [
    "# 10. Plot the numeric columns as a line plot, ensuring that the plot has proper labels.\n",
    "import matplotlib.pyplot as plt\n",
    "df_numeric_only = df.select_dtypes(include = ['int64','int32','float32','float64'])\n",
    "df_numeric_only.plot()\n",
    "plt.xlabel('Index')\n",
    "plt.ylabel('Value')"
   ]
  },
  {
   "cell_type": "code",
   "execution_count": 28,
   "id": "1bf86fec-4785-40f5-b2f9-13327f92f12c",
   "metadata": {},
   "outputs": [
    {
     "data": {
      "text/html": [
       "<div>\n",
       "<style scoped>\n",
       "    .dataframe tbody tr th:only-of-type {\n",
       "        vertical-align: middle;\n",
       "    }\n",
       "\n",
       "    .dataframe tbody tr th {\n",
       "        vertical-align: top;\n",
       "    }\n",
       "\n",
       "    .dataframe thead th {\n",
       "        text-align: right;\n",
       "    }\n",
       "</style>\n",
       "<table border=\"1\" class=\"dataframe\">\n",
       "  <thead>\n",
       "    <tr style=\"text-align: right;\">\n",
       "      <th></th>\n",
       "      <th>A</th>\n",
       "      <th>C</th>\n",
       "      <th>D</th>\n",
       "      <th>E</th>\n",
       "      <th>F</th>\n",
       "    </tr>\n",
       "    <tr>\n",
       "      <th>B</th>\n",
       "      <th></th>\n",
       "      <th></th>\n",
       "      <th></th>\n",
       "      <th></th>\n",
       "      <th></th>\n",
       "    </tr>\n",
       "  </thead>\n",
       "  <tbody>\n",
       "    <tr>\n",
       "      <th>test</th>\n",
       "      <td>2.228746</td>\n",
       "      <td>64.6</td>\n",
       "      <td>53.8</td>\n",
       "      <td>2021-03-26</td>\n",
       "      <td>0.802664</td>\n",
       "    </tr>\n",
       "    <tr>\n",
       "      <th>train</th>\n",
       "      <td>1.264003</td>\n",
       "      <td>66.0</td>\n",
       "      <td>10.0</td>\n",
       "      <td>2021-02-01</td>\n",
       "      <td>0.368242</td>\n",
       "    </tr>\n",
       "  </tbody>\n",
       "</table>\n",
       "</div>"
      ],
      "text/plain": [
       "              A     C     D          E         F\n",
       "B                                               \n",
       "test   2.228746  64.6  53.8 2021-03-26  0.802664\n",
       "train  1.264003  66.0  10.0 2021-02-01  0.368242"
      ]
     },
     "execution_count": 28,
     "metadata": {},
     "output_type": "execute_result"
    }
   ],
   "source": [
    "#11. Compute the mean values of each column for groups train and test\n",
    "df.groupby('B').mean()"
   ]
  },
  {
   "cell_type": "code",
   "execution_count": 25,
   "id": "056b8855-005f-4b96-9b87-2fb3d1c4de82",
   "metadata": {},
   "outputs": [
    {
     "data": {
      "text/html": [
       "<div>\n",
       "<style scoped>\n",
       "    .dataframe tbody tr th:only-of-type {\n",
       "        vertical-align: middle;\n",
       "    }\n",
       "\n",
       "    .dataframe tbody tr th {\n",
       "        vertical-align: top;\n",
       "    }\n",
       "\n",
       "    .dataframe thead th {\n",
       "        text-align: right;\n",
       "    }\n",
       "</style>\n",
       "<table border=\"1\" class=\"dataframe\">\n",
       "  <thead>\n",
       "    <tr style=\"text-align: right;\">\n",
       "      <th></th>\n",
       "      <th>a</th>\n",
       "      <th>b</th>\n",
       "    </tr>\n",
       "  </thead>\n",
       "  <tbody>\n",
       "    <tr>\n",
       "      <th>0</th>\n",
       "      <td>1</td>\n",
       "      <td>4</td>\n",
       "    </tr>\n",
       "    <tr>\n",
       "      <th>1</th>\n",
       "      <td>2</td>\n",
       "      <td>5</td>\n",
       "    </tr>\n",
       "    <tr>\n",
       "      <th>2</th>\n",
       "      <td>3</td>\n",
       "      <td>6</td>\n",
       "    </tr>\n",
       "  </tbody>\n",
       "</table>\n",
       "</div>"
      ],
      "text/plain": [
       "   a  b\n",
       "0  1  4\n",
       "1  2  5\n",
       "2  3  6"
      ]
     },
     "execution_count": 25,
     "metadata": {},
     "output_type": "execute_result"
    }
   ],
   "source": [
    "df1 = pd.DataFrame(\n",
    "    {\"value\": [1, 2, 3, 4, 5, 6], \"group\": [\"a\", \"a\", \"a\", \"b\", \"b\", \"b\"]}\n",
    ")\n",
    "\n",
    "dic = {'a':[],'b':[]}\n",
    "\n",
    "for i in df1.index:\n",
    "    if df1['group'][i] == 'a':\n",
    "        value_list = dic['a']\n",
    "        value_list.append(df1['value'][i])\n",
    "        dic.update({'a':value_list})\n",
    "    else:\n",
    "        value_list = dic['b']\n",
    "        value_list.append(df1['value'][i])\n",
    "        dic.update({'b':value_list})\n",
    "\n",
    "df2 = pd.DataFrame(dic)\n",
    "df2\n",
    "        "
   ]
  },
  {
   "cell_type": "code",
   "execution_count": 29,
   "id": "ba61e01b-da66-4230-81e5-5c7a8f3dc361",
   "metadata": {},
   "outputs": [
    {
     "data": {
      "text/plain": [
       "{'a': [1, 2, 3], 'b': [4, 5, 6]}"
      ]
     },
     "execution_count": 29,
     "metadata": {},
     "output_type": "execute_result"
    }
   ],
   "source": [
    "#12.a Convert the following DataFrame from a into b (long to wide). Using manual way.\n",
    "\n",
    "df1 = pd.DataFrame(\n",
    "    {\"value\": [1, 2, 3, 4, 5, 6], \"group\": [\"a\", \"a\", \"a\", \"b\", \"b\", \"b\"]}\n",
    ")\n",
    "\n",
    "x = df1.groupby('group')['value'].apply(list).to_dict()\n",
    "x"
   ]
  },
  {
   "cell_type": "code",
   "execution_count": 30,
   "id": "e81520ca-af6a-4169-a139-be1a60655121",
   "metadata": {},
   "outputs": [
    {
     "data": {
      "text/html": [
       "<div>\n",
       "<style scoped>\n",
       "    .dataframe tbody tr th:only-of-type {\n",
       "        vertical-align: middle;\n",
       "    }\n",
       "\n",
       "    .dataframe tbody tr th {\n",
       "        vertical-align: top;\n",
       "    }\n",
       "\n",
       "    .dataframe thead th {\n",
       "        text-align: right;\n",
       "    }\n",
       "</style>\n",
       "<table border=\"1\" class=\"dataframe\">\n",
       "  <thead>\n",
       "    <tr style=\"text-align: right;\">\n",
       "      <th>group</th>\n",
       "      <th>a</th>\n",
       "      <th>b</th>\n",
       "    </tr>\n",
       "  </thead>\n",
       "  <tbody>\n",
       "    <tr>\n",
       "      <th>0</th>\n",
       "      <td>1.0</td>\n",
       "      <td>NaN</td>\n",
       "    </tr>\n",
       "    <tr>\n",
       "      <th>1</th>\n",
       "      <td>2.0</td>\n",
       "      <td>NaN</td>\n",
       "    </tr>\n",
       "    <tr>\n",
       "      <th>2</th>\n",
       "      <td>3.0</td>\n",
       "      <td>NaN</td>\n",
       "    </tr>\n",
       "    <tr>\n",
       "      <th>3</th>\n",
       "      <td>NaN</td>\n",
       "      <td>4.0</td>\n",
       "    </tr>\n",
       "    <tr>\n",
       "      <th>4</th>\n",
       "      <td>NaN</td>\n",
       "      <td>5.0</td>\n",
       "    </tr>\n",
       "    <tr>\n",
       "      <th>5</th>\n",
       "      <td>NaN</td>\n",
       "      <td>6.0</td>\n",
       "    </tr>\n",
       "  </tbody>\n",
       "</table>\n",
       "</div>"
      ],
      "text/plain": [
       "group    a    b\n",
       "0      1.0  NaN\n",
       "1      2.0  NaN\n",
       "2      3.0  NaN\n",
       "3      NaN  4.0\n",
       "4      NaN  5.0\n",
       "5      NaN  6.0"
      ]
     },
     "execution_count": 30,
     "metadata": {},
     "output_type": "execute_result"
    }
   ],
   "source": [
    "#12.a Convert the following DataFrame from a into b (long to wide). Using pivot function\n",
    "df1 = pd.DataFrame(\n",
    "    {\"value\": [1, 2, 3, 4, 5, 6], \"group\": [\"a\", \"a\", \"a\", \"b\", \"b\", \"b\"]}\n",
    ")\n",
    "\n",
    "df2 = df1.pivot( columns = 'group', values = 'value')\n",
    "df2"
   ]
  },
  {
   "cell_type": "code",
   "execution_count": 32,
   "id": "c75382f5-36c5-48f6-9b59-7fcadfb89bde",
   "metadata": {},
   "outputs": [
    {
     "data": {
      "text/html": [
       "<div>\n",
       "<style scoped>\n",
       "    .dataframe tbody tr th:only-of-type {\n",
       "        vertical-align: middle;\n",
       "    }\n",
       "\n",
       "    .dataframe tbody tr th {\n",
       "        vertical-align: top;\n",
       "    }\n",
       "\n",
       "    .dataframe thead th {\n",
       "        text-align: right;\n",
       "    }\n",
       "</style>\n",
       "<table border=\"1\" class=\"dataframe\">\n",
       "  <thead>\n",
       "    <tr style=\"text-align: right;\">\n",
       "      <th></th>\n",
       "      <th>value</th>\n",
       "      <th>group</th>\n",
       "    </tr>\n",
       "  </thead>\n",
       "  <tbody>\n",
       "    <tr>\n",
       "      <th>0</th>\n",
       "      <td>1</td>\n",
       "      <td>a</td>\n",
       "    </tr>\n",
       "    <tr>\n",
       "      <th>1</th>\n",
       "      <td>2</td>\n",
       "      <td>a</td>\n",
       "    </tr>\n",
       "    <tr>\n",
       "      <th>2</th>\n",
       "      <td>3</td>\n",
       "      <td>a</td>\n",
       "    </tr>\n",
       "    <tr>\n",
       "      <th>3</th>\n",
       "      <td>4</td>\n",
       "      <td>b</td>\n",
       "    </tr>\n",
       "    <tr>\n",
       "      <th>4</th>\n",
       "      <td>5</td>\n",
       "      <td>b</td>\n",
       "    </tr>\n",
       "    <tr>\n",
       "      <th>5</th>\n",
       "      <td>6</td>\n",
       "      <td>b</td>\n",
       "    </tr>\n",
       "  </tbody>\n",
       "</table>\n",
       "</div>"
      ],
      "text/plain": [
       "   value group\n",
       "0      1     a\n",
       "1      2     a\n",
       "2      3     a\n",
       "3      4     b\n",
       "4      5     b\n",
       "5      6     b"
      ]
     },
     "execution_count": 32,
     "metadata": {},
     "output_type": "execute_result"
    }
   ],
   "source": [
    "#12.b Additionally, convert from b into a (wide to long). Using Manual way\n",
    "\n",
    "df2 = pd.DataFrame(\n",
    "    {\"a\": [1, 2, 3], \"b\": [4, 5, 6]}\n",
    ")\n",
    "dic = {\"value\": [], \"group\": []}\n",
    "for i in df2.index:\n",
    "    group_list = dic['group']\n",
    "    group_list.append('a')\n",
    "    dic.update({'group':group_list})\n",
    "\n",
    "    value_list = dic['value']\n",
    "    value_list.append(df2['a'][i])    \n",
    "    dic.update({'value':value_list})\n",
    "\n",
    "for i in df2.index:\n",
    "    group_list = dic['group']\n",
    "    group_list.append('b')\n",
    "    dic.update({'group':group_list})\n",
    "\n",
    "    value_list = dic['value']\n",
    "    value_list.append(df2['b'][i])\n",
    "    \n",
    "    dic.update({'value':value_list})\n",
    "\n",
    "df = pd.DataFrame(dic)\n",
    "df"
   ]
  },
  {
   "cell_type": "code",
   "execution_count": 33,
   "id": "e8c45703-25fd-43d1-b522-330ff9512620",
   "metadata": {},
   "outputs": [
    {
     "name": "stdout",
     "output_type": "stream",
     "text": [
      "  group  value\n",
      "0     a      1\n",
      "1     a      2\n",
      "2     a      3\n",
      "3     b      4\n",
      "4     b      5\n",
      "5     b      6\n"
     ]
    }
   ],
   "source": [
    "#12.b  Additionally, convert from b into a (wide to long). Using 'melt' function\n",
    "a_converted = df2.melt(var_name='group', value_name='value')\n",
    "a_converted.dropna()\n",
    "print(a_converted)"
   ]
  },
  {
   "cell_type": "code",
   "execution_count": 34,
   "id": "76de44f5-b077-4007-8e76-dd481d1505e7",
   "metadata": {},
   "outputs": [],
   "source": [
    "## Supervised Learning\n",
    "# 1. Load the iris dataset \n",
    "\n",
    "import sklearn as sk\n",
    "import sklearn.datasets\n",
    "iris = sk.datasets.load_iris()\n",
    "\n",
    "# numSamples, numFeatures = iris.data.shape\n",
    "# print(numSamples)\n",
    "# print(numFeatures)\n",
    "# print(list(iris.target_names))\n"
   ]
  },
  {
   "cell_type": "code",
   "execution_count": 35,
   "id": "cf671323-ceef-492a-91b4-b2fe723b3ddb",
   "metadata": {},
   "outputs": [
    {
     "data": {
      "image/png": "[encoded data removed]",
      "text/plain": [
       "<Figure size 640x480 with 1 Axes>"
      ]
     },
     "metadata": {},
     "output_type": "display_data"
    }
   ],
   "source": [
    "# 2.Visualize the data matrix.\n",
    "import matplotlib.pyplot as plt\n",
    "\n",
    "_, ax = plt.subplots()\n",
    "scatter = ax.scatter(iris.data[:, 0], iris.data[:, 1], c=iris.target)\n",
    "ax.set(xlabel=iris.feature_names[0], ylabel=iris.feature_names[1])\n",
    "_ = ax.legend(\n",
    "    scatter.legend_elements()[0], iris.target_names, loc=\"lower right\", title=\"Classes\"\n",
    ")\n"
   ]
  },
  {
   "cell_type": "code",
   "execution_count": 36,
   "id": "42f4fa24-657c-46cc-87f2-cbde4aa6e83a",
   "metadata": {},
   "outputs": [],
   "source": [
    "#3. Train a random forest classifier to predict the target values and report its performance using an appropriate evaluation metric.\n",
    "\n",
    "# Divide our data into 20% reserved for testing our model, and the remaining 80% to train it with.\n",
    "# We refer to our features (in this case, the petal sizes) as X, and the labels (in this case, the species) as y\n",
    "\n",
    "from sklearn.model_selection import train_test_split\n",
    "X_train, X_test, Y_train, Y_test = train_test_split(iris.data, iris.target, test_size = 0.2, random_state= 0)\n",
    "\n"
   ]
  },
  {
   "cell_type": "code",
   "execution_count": 37,
   "id": "9f769b85-d322-461d-aacf-6e571368d204",
   "metadata": {},
   "outputs": [],
   "source": [
    "from sklearn.ensemble import RandomForestClassifier\n",
    "\n",
    "clf = RandomForestClassifier(n_estimators=5)\n",
    "clf = clf.fit(X_train, Y_train)\n",
    "\n",
    "predictions = clf.predict(X_test)\n"
   ]
  },
  {
   "cell_type": "code",
   "execution_count": 38,
   "id": "21a241da-d644-4dc3-8f56-0d4913cd064c",
   "metadata": {},
   "outputs": [
    {
     "name": "stdout",
     "output_type": "stream",
     "text": [
      "[2 1 0 2 0 2 0 1 1 1 2 1 1 1 1 0 1 1 0 0 2 1 0 0 2 0 0 1 1 0]\n",
      "[2 1 0 2 0 2 0 1 1 1 2 1 1 1 1 0 1 1 0 0 2 1 0 0 2 0 0 1 1 0]\n"
     ]
    }
   ],
   "source": [
    "print(predictions)\n",
    "print(Y_test)"
   ]
  },
  {
   "cell_type": "code",
   "execution_count": 39,
   "id": "dce0e745-85d2-4dfc-931b-55156929737c",
   "metadata": {},
   "outputs": [
    {
     "data": {
      "text/plain": [
       "1.0"
      ]
     },
     "execution_count": 39,
     "metadata": {},
     "output_type": "execute_result"
    }
   ],
   "source": [
    "from sklearn.metrics import accuracy_score\n",
    "\n",
    "accuracy_score(Y_test, predictions)"
   ]
  },
  {
   "cell_type": "code",
   "execution_count": 40,
   "id": "b5124c29-1e55-44fc-ab5b-91e93babc6c9",
   "metadata": {},
   "outputs": [
    {
     "name": "stdout",
     "output_type": "stream",
     "text": [
      "Data saved to Medullablastoma.csv\n"
     ]
    }
   ],
   "source": [
    "## Text mining\n",
    "# 1. Using Biopython, collect medline abstracts on \"medulloblastoma\" published in 2012.\n",
    "\n",
    "from Bio import Entrez\n",
    "import pandas as pd\n",
    "import csv\n",
    "\n",
    "# Set email for Entrez\n",
    "Entrez.email = \"your_email@example.com\"  # Replace with your email\n",
    "\n",
    "# Search for medulloblastoma articles published in 2012\n",
    "search_term = \"medulloblastoma[Title/Abstract] AND 2012[PDAT]\"\n",
    "handle = Entrez.esearch(db=\"pubmed\", term=search_term, retmax=1000)\n",
    "record = Entrez.read(handle)\n",
    "handle.close()\n",
    "\n",
    "# Get the list of PubMed IDs\n",
    "id_list = record[\"IdList\"]\n",
    "#Fetch the abstracts\n",
    "handle = Entrez.efetch(db=\"pubmed\", id=id_list, retmode=\"xml\")\n",
    "records = Entrez.read(handle)\n",
    "handle.close()\n",
    "\n",
    "# Save to CSV\n",
    "with open('Medullablastoma.csv', mode = 'w', newline = '', encoding = 'utf-8') as file:\n",
    "    writer = csv.writer(file)\n",
    "    writer.writerow(['PMID', 'Title', 'Abstract','Authors'])\n",
    "\n",
    "    for article in records['PubmedArticle']:\n",
    "        pmid = article['MedlineCitation']['PMID']\n",
    "        title = article['MedlineCitation']['Article']['ArticleTitle']\n",
    "        abstract = ''\n",
    "\n",
    "        if 'Abstract' in article['MedlineCitation']['Article']:\n",
    "            abstract = ' '.join([a for a in article['MedlineCitation']['Article']['Abstract']['AbstractText']])\n",
    "\n",
    "        authors = article['MedlineCitation']['Article'].get('AuthorList',[])\n",
    "        author_last_names = [f\"{author['LastName']}\" for author in authors if 'LastName' in author]\n",
    "        authors_last_name_string = ';'.join(author_last_names)        \n",
    "        writer.writerow([pmid, title, abstract, authors_last_name_string])\n",
    "\n",
    "print(\"Data saved to Medullablastoma.csv\")"
   ]
  },
  {
   "cell_type": "code",
   "execution_count": 41,
   "id": "49354a07-8f79-46a3-94ec-e11f9d3c3ed9",
   "metadata": {},
   "outputs": [],
   "source": [
    "#2.Import the CSV table and build a SQLite database.\n",
    "\n",
    "import sqlite3\n",
    "import csv\n",
    "\n",
    "# Create/connect to the SQLite database and add CSV data to a table\n",
    "conn = sqlite3.connect('medulloblastoma.db')\n",
    "cursor = conn.cursor()\n",
    "\n",
    "cursor.execute('''\n",
    "DROP TABLE IF EXISTS publications\n",
    "''')\n",
    "# Create a table\n",
    "cursor.execute('''\n",
    "CREATE TABLE publications (\n",
    "    pmid TEXT PRIMARY KEY,\n",
    "    title TEXT,\n",
    "    abstract TEXT,\n",
    "    authors TEXT\n",
    ")\n",
    "''')\n",
    "\n",
    "# Read the CSV and insert data into the database\n",
    "with open('Medullablastoma.csv', mode='r', encoding='utf-8') as file:\n",
    "    reader = csv.reader(file)\n",
    "    next(reader)  # Skip header\n",
    "    for row in reader:\n",
    "        cursor.execute('INSERT OR IGNORE INTO publications (pmid, title, abstract, authors) VALUES (?, ?, ?, ?)', row)\n",
    "\n",
    "# Commit changes and close the connection\n",
    "conn.commit()\n",
    "conn.close()"
   ]
  },
  {
   "cell_type": "code",
   "execution_count": 42,
   "id": "ee07af23-717e-48f9-82de-8f2d608dff5f",
   "metadata": {},
   "outputs": [
    {
     "name": "stdout",
     "output_type": "stream",
     "text": [
      "('23184418', 'Aberrant patterns of H3K4 and H3K27 histone lysine methylation occur across subgroups in medulloblastoma.')\n",
      "('22832583', 'Dissecting the genomic complexity underlying medulloblastoma.')\n",
      "('22832581', 'Subgroup-specific structural variation across 1,000 medulloblastoma genomes.')\n",
      "('22358458', 'Subgroup-specific alternative splicing in medulloblastoma.')\n",
      "('22343890', 'Clonal selection drives genetic divergence of metastatic medulloblastoma.')\n",
      "('22265402', 'Genome sequencing of pediatric medulloblastoma links catastrophic DNA rearrangements with TP53 mutations.')\n",
      "('22057785', 'Rapid, reliable, and reproducible molecular sub-grouping of clinical medulloblastoma samples.')\n"
     ]
    }
   ],
   "source": [
    "# 3. Obtain the PMID and title of publications for authors with the surname \"Shih\" from the database.\n",
    "conn = sqlite3.connect('medulloblastoma.db')\n",
    "cursor = conn.cursor()\n",
    "\n",
    "cursor.execute('''\n",
    "SELECT pmid, title FROM publications\n",
    "WHERE authors LIKE '%;shih;%' OR authors LIKE 'shih;%' OR authors LIKE '%;shih'\n",
    "''') \n",
    "output = cursor.fetchall() \n",
    "for row in output: \n",
    "  print(row) \n",
    "    \n",
    "# Close the connection \n",
    "conn.close()"
   ]
  }
 ],
 "metadata": {
  "kernelspec": {
   "display_name": "python_excercise",
   "language": "python",
   "name": "python_excercise"
  },
  "language_info": {
   "codemirror_mode": {
    "name": "ipython",
    "version": 3
   },
   "file_extension": ".py",
   "mimetype": "text/x-python",
   "name": "python",
   "nbconvert_exporter": "python",
   "pygments_lexer": "ipython3",
   "version": "3.12.4"
  }
 },
 "nbformat": 4,
 "nbformat_minor": 5
}
